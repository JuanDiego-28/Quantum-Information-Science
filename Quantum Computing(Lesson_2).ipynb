{
 "cells": [
  {
   "cell_type": "code",
   "execution_count": 2,
   "id": "469fb4c3",
   "metadata": {},
   "outputs": [],
   "source": [
    "from qiskit. quantum_info import Statevector, Operator"
   ]
  },
  {
   "cell_type": "code",
   "execution_count": 42,
   "id": "b703d2c4",
   "metadata": {},
   "outputs": [
    {
     "data": {
      "text/latex": [
       "$$ |0\\rangle$$"
      ],
      "text/plain": [
       "<IPython.core.display.Latex object>"
      ]
     },
     "metadata": {},
     "output_type": "display_data"
    },
    {
     "data": {
      "text/latex": [
       "$$ |1\\rangle$$"
      ],
      "text/plain": [
       "<IPython.core.display.Latex object>"
      ]
     },
     "metadata": {},
     "output_type": "display_data"
    }
   ],
   "source": [
    "#Creating the state vectors: \n",
    "\n",
    "zero = Statevector.from_label('0')\n",
    "one = Statevector.from_label('1')\n",
    "\n",
    "#other way of definnf states vectors:\n",
    "zero_1 = Statevector([1,0])\n",
    "one_1 = Statevector([0,1])\n",
    "\n",
    "display(zero_1.draw('latex'))\n",
    "display(one_1.draw('latex'))"
   ]
  },
  {
   "cell_type": "code",
   "execution_count": 45,
   "id": "be46d6e9",
   "metadata": {},
   "outputs": [
    {
     "data": {
      "text/latex": [
       "$$ |01\\rangle$$"
      ],
      "text/plain": [
       "<IPython.core.display.Latex object>"
      ]
     },
     "metadata": {},
     "output_type": "display_data"
    }
   ],
   "source": [
    "# Using tensor method to calculate the tensor product: \n",
    "\n",
    "tensor_product = zero_1.tensor(one_1)\n",
    "#Displaying in Latex format:\n",
    "display(tensor_product.draw('latex'))"
   ]
  },
  {
   "cell_type": "code",
   "execution_count": 13,
   "id": "783fd4af",
   "metadata": {},
   "outputs": [
    {
     "data": {
      "text/latex": [
       "$$\\frac{1}{2} |00\\rangle+\\frac{i}{2} |01\\rangle- \\frac{1}{2} |10\\rangle- \\frac{i}{2} |11\\rangle$$"
      ],
      "text/plain": [
       "<IPython.core.display.Latex object>"
      ]
     },
     "metadata": {},
     "output_type": "display_data"
    }
   ],
   "source": [
    "#Usint tensor mthod to multply by the minus state: \n",
    "from numpy import sqrt\n",
    "\n",
    "minus  = Statevector.from_label('-')\n",
    "i_state = Statevector([1/sqrt(2),1j/sqrt(2)])\n",
    "\n",
    "#Using tensor method: \n",
    "psi = minus.tensor(i_state)\n",
    "\n",
    "#Displaying in Latex format:\n",
    "display(psi.draw('latex'))\n"
   ]
  },
  {
   "cell_type": "code",
   "execution_count": 22,
   "id": "4438b0ba",
   "metadata": {},
   "outputs": [
    {
     "data": {
      "text/plain": [
       "Operator([[0.+0.j, 0.+0.j, 1.+0.j, 0.+0.j],\n",
       "          [0.+0.j, 0.+0.j, 0.+0.j, 1.+0.j],\n",
       "          [1.+0.j, 0.+0.j, 0.+0.j, 0.+0.j],\n",
       "          [0.+0.j, 1.+0.j, 0.+0.j, 0.+0.j]],\n",
       "         input_dims=(2, 2), output_dims=(2, 2))"
      ]
     },
     "execution_count": 22,
     "metadata": {},
     "output_type": "execute_result"
    }
   ],
   "source": [
    "#Using the tensor methos for Operator class:\n",
    "X = Operator([ [0, 1],\n",
    "              [1, 0] ])\n",
    "\n",
    "I = Operator([ [1, 0],\n",
    "              [0, 1] ])\n",
    "product = X.tensor(I)\n",
    "\n",
    "product"
   ]
  },
  {
   "cell_type": "code",
   "execution_count": 21,
   "id": "b78b6919",
   "metadata": {},
   "outputs": [
    {
     "data": {
      "text/latex": [
       "$$\\frac{i}{2} |00\\rangle+\\frac{1}{2} |01\\rangle- \\frac{i}{2} |10\\rangle- \\frac{1}{2} |11\\rangle$$"
      ],
      "text/plain": [
       "<IPython.core.display.Latex object>"
      ]
     },
     "metadata": {},
     "output_type": "display_data"
    }
   ],
   "source": [
    "#Getting the tensor product of X and I ad then applying the operator psi: \n",
    "\n",
    "psi_1 = psi.evolve(I^X) # evolve() is a mtohd that applies the operator to the argument\n",
    "                        #  ^ allow to get tensor prodcuto\n",
    "    \n",
    "display(psi_1.draw('latex'))\n",
    "\n",
    "psi_2 = psi.evolve(I.tensor(X))\n",
    "#Prving that ^ and .tensor() do the same:\n",
    "#display(psi_2.draw('latex'))"
   ]
  },
  {
   "cell_type": "code",
   "execution_count": 26,
   "id": "ca090ded",
   "metadata": {},
   "outputs": [
    {
     "data": {
      "text/latex": [
       "$$\\frac{1}{2} |00\\rangle+\\frac{i}{2} |01\\rangle- \\frac{i}{2} |10\\rangle- \\frac{1}{2} |11\\rangle$$"
      ],
      "text/plain": [
       "<IPython.core.display.Latex object>"
      ]
     },
     "metadata": {},
     "output_type": "display_data"
    }
   ],
   "source": [
    "#Creating the CNOT operator and applying to psi: \n",
    "\n",
    "CNOT= Operator([[1,0,0,0],\n",
    "               [0,1,0,0],\n",
    "               [0,0,0,1],\n",
    "               [0,0,1,0]])\n",
    "\n",
    "product_1 = psi.evolve(CNOT)\n",
    "\n",
    "display(product_1.draw('latex'))"
   ]
  },
  {
   "cell_type": "markdown",
   "id": "c3e6d1e0",
   "metadata": {},
   "source": [
    "#### CHALLENGE:"
   ]
  },
  {
   "cell_type": "code",
   "execution_count": 38,
   "id": "c76a973a",
   "metadata": {},
   "outputs": [
    {
     "data": {
      "text/latex": [
       "$$\\frac{\\sqrt{2}}{2} |0\\rangle+\\frac{\\sqrt{2}}{2} |1\\rangle$$"
      ],
      "text/plain": [
       "<IPython.core.display.Latex object>"
      ]
     },
     "metadata": {},
     "output_type": "display_data"
    }
   ],
   "source": [
    "#Creating the Bell states using single Qbits and Cnot operator: \n",
    "\n",
    "st_vec_1 =  Statevector([1/sqrt(2),1/sqrt(2)])\n",
    "\n",
    "display(st_vec_1.draw('latex'))"
   ]
  },
  {
   "cell_type": "code",
   "execution_count": 48,
   "id": "8b0b361c",
   "metadata": {},
   "outputs": [
    {
     "data": {
      "text/latex": [
       "$$\\frac{\\sqrt{3}}{3} |001\\rangle+\\frac{\\sqrt{3}}{3} |010\\rangle+\\frac{\\sqrt{3}}{3} |100\\rangle$$"
      ],
      "text/plain": [
       "<IPython.core.display.Latex object>"
      ]
     },
     "metadata": {},
     "output_type": "display_data"
    }
   ],
   "source": [
    "W = Statevector([0, 1, 1, 0, 1, 0,0, 0]/sqrt(3))\n",
    "display(W.draw('latex'))"
   ]
  },
  {
   "cell_type": "code",
   "execution_count": null,
   "id": "68fa7404",
   "metadata": {},
   "outputs": [],
   "source": []
  }
 ],
 "metadata": {
  "kernelspec": {
   "display_name": "Qiskit(stable)",
   "language": "python",
   "name": "qiskit-stable"
  },
  "language_info": {
   "codemirror_mode": {
    "name": "ipython",
    "version": 3
   },
   "file_extension": ".py",
   "mimetype": "text/x-python",
   "name": "python",
   "nbconvert_exporter": "python",
   "pygments_lexer": "ipython3",
   "version": "3.9.16"
  }
 },
 "nbformat": 4,
 "nbformat_minor": 5
}
