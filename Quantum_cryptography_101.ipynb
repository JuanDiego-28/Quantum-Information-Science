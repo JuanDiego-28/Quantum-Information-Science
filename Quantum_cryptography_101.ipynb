{
 "cells": [
  {
   "cell_type": "markdown",
   "metadata": {},
   "source": [
    "# Cryptographic hash functions "
   ]
  },
  {
   "cell_type": "markdown",
   "metadata": {},
   "source": [
    "#### What is a hash function ?\n",
    "\n",
    "For instance, I can think of hash functions like a magic box. I can store anything in this box (data, like a password or a file) and get a unique \"digital fingerprint\" every time. This fingerprint tells me something about what's stored, but it doesn't reveal the exact contents. It's like a summary that gives you an idea of what's inside. Additionally, each item placed in the magic box has its own unique digital fingerprint.\n",
    "\n",
    "\n",
    "---> Takes an input of arbitrary length and produces a fixed length pseudo-random string (also known\n",
    "as digest)"
   ]
  },
  {
   "cell_type": "markdown",
   "metadata": {},
   "source": [
    "#### Design of hash functions"
   ]
  },
  {
   "cell_type": "code",
   "execution_count": 2,
   "metadata": {},
   "outputs": [],
   "source": [
    "# Begin by importing some necessary modules\n",
    "from cryptography.hazmat.backends import default_backend\n",
    "from cryptography.hazmat.primitives import hashes"
   ]
  },
  {
   "cell_type": "code",
   "execution_count": 3,
   "metadata": {},
   "outputs": [],
   "source": [
    "# check if character is differet from string \n",
    "def char_diff(str1, str2):\n",
    "    \"\"\"\n",
    "    Calculates the number of different characters between two strings\n",
    "    ------------------------------------------------------------------\n",
    "    if str1[i] != str2[i] -> True = 1 for sum function . Thus, sum keeps on adding  \n",
    "    \"\"\"\n",
    "    return sum ( str1[i] != str2[i] for i in range(len(str1)) )\n"
   ]
  },
  {
   "cell_type": "code",
   "execution_count": 4,
   "metadata": {},
   "outputs": [
    {
     "name": "stdout",
     "output_type": "stream",
     "text": [
      "The two messages differ by 1 characters\n"
     ]
    }
   ],
   "source": [
    "# Messages to be hashed\n",
    "message_1 = b\"Buy 10000 shares of WXYZ stock now!\"\n",
    "message_2 = b\"Buy 10000 shares of VXYZ stock now!\"\n",
    "\n",
    "print(f\"The two messages differ by { char_diff(message_1, message_2)} characters\")"
   ]
  },
  {
   "cell_type": "markdown",
   "metadata": {},
   "source": [
    "#### SHA-256 Algorithm\n",
    "\n",
    "It's a cryptographic hash function that takes any input data and generates a fixed-size (256-bit) hash value.This hash value is like a unique fingerprint of the data. Even a slight change in the input data will result in a completely different hash."
   ]
  },
  {
   "cell_type": "markdown",
   "metadata": {},
   "source": []
  }
 ],
 "metadata": {
  "kernelspec": {
   "display_name": "qiskit-stable",
   "language": "python",
   "name": "python3"
  },
  "language_info": {
   "codemirror_mode": {
    "name": "ipython",
    "version": 3
   },
   "file_extension": ".py",
   "mimetype": "text/x-python",
   "name": "python",
   "nbconvert_exporter": "python",
   "pygments_lexer": "ipython3",
   "version": "3.9.19"
  }
 },
 "nbformat": 4,
 "nbformat_minor": 2
}
